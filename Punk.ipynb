{
 "cells": [
  {
   "cell_type": "markdown",
   "id": "suspended-bikini",
   "metadata": {},
   "source": [
    "Draft of a crypto punk model\n",
    "* Add your infura key to env under KEY\n",
    "* web3.py only works w python 3.7 for some reason\n",
    "* one hot encoding of attributes(eg: hair color etc) and punk types (ape, alien, etc)\n",
    "* gets the \"punkBought\" from the punks contract for price data\n"
   ]
  },
  {
   "cell_type": "code",
   "execution_count": 1,
   "id": "native-shoulder",
   "metadata": {},
   "outputs": [],
   "source": [
    "import numpy as np\n",
    "import pandas as pd\n",
    "from sklearn.linear_model import LinearRegression\n",
    "import glob\n",
    "import os\n",
    "from web3 import Web3"
   ]
  },
  {
   "cell_type": "code",
   "execution_count": 2,
   "id": "narrative-subscriber",
   "metadata": {
    "scrolled": true
   },
   "outputs": [],
   "source": [
    "# get attribute data\n",
    "data_filenames = glob.glob(\"./data/*.csv\")\n",
    "\n",
    "df = pd.DataFrame()\n",
    "for f in data_filenames:\n",
    "    df = df.append(pd.read_csv(f))\n",
    "\n",
    "df = df.set_index('id')\n",
    "df.columns = ['type', 'attr_count', 'attrs']\n",
    "\n",
    "\n",
    "def clean(attr_str):\n",
    "    if (attr_str == ' '): \n",
    "        return ['None']\n",
    "    else:\n",
    "        attrs = attr_str.split(\" / \")\n",
    "        return list(map(lambda x: x.replace(\" \",\"\"), attrs))\n",
    "\n",
    "df['attrs'] = df['attrs'].apply(clean)#https://stackoverflow.com/questions/29034928/pandas-convert-a-column-of-list-to-dummies/29036042\n",
    "attr_dummies = pd.get_dummies(df['attrs'].apply(pd.Series).stack()).sum(level=0)\n",
    "type_dummies = pd.get_dummies(df['type'])\n",
    "type_dummies = type_dummies.rename(str.strip, axis='columns')\n",
    "del df['attrs']\n",
    "del df['type']\n",
    "\n",
    "df = df.join(type_dummies).join(attr_dummies)"
   ]
  },
  {
   "cell_type": "code",
   "execution_count": 507,
   "id": "tracked-trial",
   "metadata": {},
   "outputs": [],
   "source": [
    "def hexDaysAgo(w3, days):\n",
    "    blocks_per_day = round(86400 / 14)\n",
    "    target = w3.eth.block_number - days * blocks_per_day\n",
    "    return hex(target)"
   ]
  },
  {
   "cell_type": "code",
   "execution_count": 528,
   "id": "increasing-synthetic",
   "metadata": {},
   "outputs": [
    {
     "name": "stdout",
     "output_type": "stream",
     "text": [
      "None\n"
     ]
    }
   ],
   "source": [
    "INFURA_KEY = os.environ.get('KEY')\n",
    "# print(INFURA_KEY)"
   ]
  },
  {
   "cell_type": "code",
   "execution_count": 515,
   "id": "speaking-ownership",
   "metadata": {},
   "outputs": [
    {
     "data": {
      "text/plain": [
       "2227"
      ]
     },
     "execution_count": 515,
     "metadata": {},
     "output_type": "execute_result"
    }
   ],
   "source": [
    "# get events\n",
    "\n",
    "QUERY_DAYS = 30\n",
    "w3 = Web3(Web3.HTTPProvider('https://mainnet.infura.io/v3/a92bf60569df4e02b242dbd8357fffac'))\n",
    "abi_text = \"\"\"[{\"constant\":true,\"inputs\":[],\"name\":\"name\",\"outputs\":[{\"name\":\"\",\"type\":\"string\"}],\"payable\":false,\"type\":\"function\"},{\"constant\":true,\"inputs\":[{\"name\":\"\",\"type\":\"uint256\"}],\"name\":\"punksOfferedForSale\",\"outputs\":[{\"name\":\"isForSale\",\"type\":\"bool\"},{\"name\":\"punkIndex\",\"type\":\"uint256\"},{\"name\":\"seller\",\"type\":\"address\"},{\"name\":\"minValue\",\"type\":\"uint256\"},{\"name\":\"onlySellTo\",\"type\":\"address\"}],\"payable\":false,\"type\":\"function\"},{\"constant\":false,\"inputs\":[{\"name\":\"punkIndex\",\"type\":\"uint256\"}],\"name\":\"enterBidForPunk\",\"outputs\":[],\"payable\":true,\"type\":\"function\"},{\"constant\":true,\"inputs\":[],\"name\":\"totalSupply\",\"outputs\":[{\"name\":\"\",\"type\":\"uint256\"}],\"payable\":false,\"type\":\"function\"},{\"constant\":false,\"inputs\":[{\"name\":\"punkIndex\",\"type\":\"uint256\"},{\"name\":\"minPrice\",\"type\":\"uint256\"}],\"name\":\"acceptBidForPunk\",\"outputs\":[],\"payable\":false,\"type\":\"function\"},{\"constant\":true,\"inputs\":[],\"name\":\"decimals\",\"outputs\":[{\"name\":\"\",\"type\":\"uint8\"}],\"payable\":false,\"type\":\"function\"},{\"constant\":false,\"inputs\":[{\"name\":\"addresses\",\"type\":\"address[]\"},{\"name\":\"indices\",\"type\":\"uint256[]\"}],\"name\":\"setInitialOwners\",\"outputs\":[],\"payable\":false,\"type\":\"function\"},{\"constant\":false,\"inputs\":[],\"name\":\"withdraw\",\"outputs\":[],\"payable\":false,\"type\":\"function\"},{\"constant\":true,\"inputs\":[],\"name\":\"imageHash\",\"outputs\":[{\"name\":\"\",\"type\":\"string\"}],\"payable\":false,\"type\":\"function\"},{\"constant\":true,\"inputs\":[],\"name\":\"nextPunkIndexToAssign\",\"outputs\":[{\"name\":\"\",\"type\":\"uint256\"}],\"payable\":false,\"type\":\"function\"},{\"constant\":true,\"inputs\":[{\"name\":\"\",\"type\":\"uint256\"}],\"name\":\"punkIndexToAddress\",\"outputs\":[{\"name\":\"\",\"type\":\"address\"}],\"payable\":false,\"type\":\"function\"},{\"constant\":true,\"inputs\":[],\"name\":\"standard\",\"outputs\":[{\"name\":\"\",\"type\":\"string\"}],\"payable\":false,\"type\":\"function\"},{\"constant\":true,\"inputs\":[{\"name\":\"\",\"type\":\"uint256\"}],\"name\":\"punkBids\",\"outputs\":[{\"name\":\"hasBid\",\"type\":\"bool\"},{\"name\":\"punkIndex\",\"type\":\"uint256\"},{\"name\":\"bidder\",\"type\":\"address\"},{\"name\":\"value\",\"type\":\"uint256\"}],\"payable\":false,\"type\":\"function\"},{\"constant\":true,\"inputs\":[{\"name\":\"\",\"type\":\"address\"}],\"name\":\"balanceOf\",\"outputs\":[{\"name\":\"\",\"type\":\"uint256\"}],\"payable\":false,\"type\":\"function\"},{\"constant\":false,\"inputs\":[],\"name\":\"allInitialOwnersAssigned\",\"outputs\":[],\"payable\":false,\"type\":\"function\"},{\"constant\":true,\"inputs\":[],\"name\":\"allPunksAssigned\",\"outputs\":[{\"name\":\"\",\"type\":\"bool\"}],\"payable\":false,\"type\":\"function\"},{\"constant\":false,\"inputs\":[{\"name\":\"punkIndex\",\"type\":\"uint256\"}],\"name\":\"buyPunk\",\"outputs\":[],\"payable\":true,\"type\":\"function\"},{\"constant\":false,\"inputs\":[{\"name\":\"to\",\"type\":\"address\"},{\"name\":\"punkIndex\",\"type\":\"uint256\"}],\"name\":\"transferPunk\",\"outputs\":[],\"payable\":false,\"type\":\"function\"},{\"constant\":true,\"inputs\":[],\"name\":\"symbol\",\"outputs\":[{\"name\":\"\",\"type\":\"string\"}],\"payable\":false,\"type\":\"function\"},{\"constant\":false,\"inputs\":[{\"name\":\"punkIndex\",\"type\":\"uint256\"}],\"name\":\"withdrawBidForPunk\",\"outputs\":[],\"payable\":false,\"type\":\"function\"},{\"constant\":false,\"inputs\":[{\"name\":\"to\",\"type\":\"address\"},{\"name\":\"punkIndex\",\"type\":\"uint256\"}],\"name\":\"setInitialOwner\",\"outputs\":[],\"payable\":false,\"type\":\"function\"},{\"constant\":false,\"inputs\":[{\"name\":\"punkIndex\",\"type\":\"uint256\"},{\"name\":\"minSalePriceInWei\",\"type\":\"uint256\"},{\"name\":\"toAddress\",\"type\":\"address\"}],\"name\":\"offerPunkForSaleToAddress\",\"outputs\":[],\"payable\":false,\"type\":\"function\"},{\"constant\":true,\"inputs\":[],\"name\":\"punksRemainingToAssign\",\"outputs\":[{\"name\":\"\",\"type\":\"uint256\"}],\"payable\":false,\"type\":\"function\"},{\"constant\":false,\"inputs\":[{\"name\":\"punkIndex\",\"type\":\"uint256\"},{\"name\":\"minSalePriceInWei\",\"type\":\"uint256\"}],\"name\":\"offerPunkForSale\",\"outputs\":[],\"payable\":false,\"type\":\"function\"},{\"constant\":false,\"inputs\":[{\"name\":\"punkIndex\",\"type\":\"uint256\"}],\"name\":\"getPunk\",\"outputs\":[],\"payable\":false,\"type\":\"function\"},{\"constant\":true,\"inputs\":[{\"name\":\"\",\"type\":\"address\"}],\"name\":\"pendingWithdrawals\",\"outputs\":[{\"name\":\"\",\"type\":\"uint256\"}],\"payable\":false,\"type\":\"function\"},{\"constant\":false,\"inputs\":[{\"name\":\"punkIndex\",\"type\":\"uint256\"}],\"name\":\"punkNoLongerForSale\",\"outputs\":[],\"payable\":false,\"type\":\"function\"},{\"inputs\":[],\"payable\":true,\"type\":\"constructor\"},{\"anonymous\":false,\"inputs\":[{\"indexed\":true,\"name\":\"to\",\"type\":\"address\"},{\"indexed\":false,\"name\":\"punkIndex\",\"type\":\"uint256\"}],\"name\":\"Assign\",\"type\":\"event\"},{\"anonymous\":false,\"inputs\":[{\"indexed\":true,\"name\":\"from\",\"type\":\"address\"},{\"indexed\":true,\"name\":\"to\",\"type\":\"address\"},{\"indexed\":false,\"name\":\"value\",\"type\":\"uint256\"}],\"name\":\"Transfer\",\"type\":\"event\"},{\"anonymous\":false,\"inputs\":[{\"indexed\":true,\"name\":\"from\",\"type\":\"address\"},{\"indexed\":true,\"name\":\"to\",\"type\":\"address\"},{\"indexed\":false,\"name\":\"punkIndex\",\"type\":\"uint256\"}],\"name\":\"PunkTransfer\",\"type\":\"event\"},{\"anonymous\":false,\"inputs\":[{\"indexed\":true,\"name\":\"punkIndex\",\"type\":\"uint256\"},{\"indexed\":false,\"name\":\"minValue\",\"type\":\"uint256\"},{\"indexed\":true,\"name\":\"toAddress\",\"type\":\"address\"}],\"name\":\"PunkOffered\",\"type\":\"event\"},{\"anonymous\":false,\"inputs\":[{\"indexed\":true,\"name\":\"punkIndex\",\"type\":\"uint256\"},{\"indexed\":false,\"name\":\"value\",\"type\":\"uint256\"},{\"indexed\":true,\"name\":\"fromAddress\",\"type\":\"address\"}],\"name\":\"PunkBidEntered\",\"type\":\"event\"},{\"anonymous\":false,\"inputs\":[{\"indexed\":true,\"name\":\"punkIndex\",\"type\":\"uint256\"},{\"indexed\":false,\"name\":\"value\",\"type\":\"uint256\"},{\"indexed\":true,\"name\":\"fromAddress\",\"type\":\"address\"}],\"name\":\"PunkBidWithdrawn\",\"type\":\"event\"},{\"anonymous\":false,\"inputs\":[{\"indexed\":true,\"name\":\"punkIndex\",\"type\":\"uint256\"},{\"indexed\":false,\"name\":\"value\",\"type\":\"uint256\"},{\"indexed\":true,\"name\":\"fromAddress\",\"type\":\"address\"},{\"indexed\":true,\"name\":\"toAddress\",\"type\":\"address\"}],\"name\":\"PunkBought\",\"type\":\"event\"},{\"anonymous\":false,\"inputs\":[{\"indexed\":true,\"name\":\"punkIndex\",\"type\":\"uint256\"}],\"name\":\"PunkNoLongerForSale\",\"type\":\"event\"}]\"\"\"\n",
    "punk_contract = w3.eth.contract(address=\"0xb47e3cd837dDF8e4c57F05d70Ab865de6e193BBB\", abi = abi_text)\n",
    "event_filter = punk_contract.events.PunkBought.createFilter(fromBlock = hexDaysAgo(w3, QUERY_DAYS))\n",
    "punk_events = event_filter.get_all_entries()\n",
    "len(punk_events)"
   ]
  },
  {
   "cell_type": "code",
   "execution_count": 522,
   "id": "accompanied-laugh",
   "metadata": {
    "scrolled": true
   },
   "outputs": [],
   "source": [
    "ids = []\n",
    "values = []\n",
    "for e in punk_events:\n",
    "    if (e.args.value != 0): #not sure why\n",
    "        ids.append(e.args.punkIndex)\n",
    "        values.append(e.args.value / 1e18) # PROBABLY UNSAFE\n",
    "    \n",
    "df_sell = pd.DataFrame(values, index=ids)\n",
    "df_sell.columns = ['price']\n",
    "df_sell.index.name = 'id'\n",
    "\n",
    "b = pd.merge(df, df_sell, how='inner', on='id')"
   ]
  },
  {
   "cell_type": "code",
   "execution_count": 523,
   "id": "moved-latin",
   "metadata": {},
   "outputs": [],
   "source": [
    "b = b.drop(columns=['Male', 'Female'])"
   ]
  },
  {
   "cell_type": "code",
   "execution_count": 524,
   "id": "dominant-support",
   "metadata": {},
   "outputs": [],
   "source": [
    "perc_train = .7\n",
    "split_num = round(len(x) * perc_train)\n",
    "\n",
    "x = b.loc[:, b.columns != 'price'].to_numpy()\n",
    "y = b['price'].to_numpy()\n",
    "\n",
    "x_train = x[0:split_num]\n",
    "x_test = x[split_num:]\n",
    "\n",
    "y_train = y[0:split_num]\n",
    "y_test = y[split_num:]\n"
   ]
  },
  {
   "cell_type": "code",
   "execution_count": 525,
   "id": "suburban-arbitration",
   "metadata": {},
   "outputs": [
    {
     "name": "stdout",
     "output_type": "stream",
     "text": [
      "Coefficients: \n",
      " [ 5.12119793e+12  4.18160547e+03  6.37558594e+02  2.31898438e+02\n",
      " -5.12119793e+12 -5.12119793e+12 -5.12119793e+12 -5.12119793e+12\n",
      " -5.12119793e+12 -5.12119793e+12 -5.12119793e+12 -5.12119793e+12\n",
      " -5.12119793e+12 -5.12119793e+12 -5.12119793e+12 -5.12119793e+12\n",
      " -5.12119793e+12 -5.12119793e+12 -5.12119793e+12 -5.12119793e+12\n",
      " -5.12119793e+12 -5.12119793e+12 -5.12119793e+12 -5.12119793e+12\n",
      " -5.12119793e+12 -5.12119793e+12 -5.12119793e+12 -5.12119793e+12\n",
      " -5.12119793e+12 -5.12119793e+12 -5.12119793e+12 -5.12119793e+12\n",
      " -5.12119793e+12 -5.12119793e+12 -5.12119793e+12 -5.12119793e+12\n",
      " -5.12119793e+12 -5.12119793e+12 -5.12119793e+12 -5.12119793e+12\n",
      " -5.12119793e+12 -5.12119793e+12 -5.12119793e+12 -5.12119793e+12\n",
      " -5.12119793e+12 -5.12119793e+12 -5.12119793e+12 -5.12119793e+12\n",
      " -5.12119793e+12 -5.12119793e+12 -5.12119793e+12 -5.12119793e+12\n",
      " -5.12119793e+12 -5.12119793e+12 -5.12119793e+12 -5.12119793e+12\n",
      "  5.31111547e+02 -5.12119793e+12 -5.12119793e+12 -5.12119793e+12\n",
      " -5.12119793e+12 -5.12119793e+12 -5.12119793e+12 -5.12119793e+12\n",
      " -5.12119793e+12 -5.12119793e+12 -5.12119793e+12 -5.12119793e+12\n",
      " -5.12119793e+12 -5.12119793e+12 -5.12119793e+12 -5.12119793e+12\n",
      " -5.12119793e+12 -5.12119793e+12 -5.12119793e+12 -5.12119793e+12\n",
      " -5.12119793e+12 -5.12119793e+12 -5.12119793e+12 -5.12119793e+12\n",
      " -5.12119793e+12 -5.12119793e+12 -5.12119793e+12 -5.12119793e+12\n",
      " -5.12119793e+12 -5.12119793e+12 -5.12119793e+12 -5.12119793e+12\n",
      " -5.12119793e+12 -5.12119793e+12 -5.12119793e+12 -5.12119793e+12]\n",
      "Mean squared error: 122.32\n",
      "Coefficient of determination: 0.63\n"
     ]
    }
   ],
   "source": [
    "from sklearn.metrics import mean_squared_error, r2_score\n",
    "\n",
    "model = LinearRegression()\n",
    "model = model.fit(x_train, y_train)\n",
    "\n",
    "y_pred = model.predict(x_test)\n",
    "\n",
    "print('Coefficients: \\n', model.coef_)\n",
    "print('Mean squared error: %.2f'% mean_squared_error(y_test, y_pred))\n",
    "print('Coefficient of determination: %.2f'% r2_score(y_test, y_pred))"
   ]
  },
  {
   "cell_type": "code",
   "execution_count": 520,
   "id": "leading-cartoon",
   "metadata": {
    "scrolled": true
   },
   "outputs": [
    {
     "data": {
      "text/html": [
       "<div>\n",
       "<style scoped>\n",
       "    .dataframe tbody tr th:only-of-type {\n",
       "        vertical-align: middle;\n",
       "    }\n",
       "\n",
       "    .dataframe tbody tr th {\n",
       "        vertical-align: top;\n",
       "    }\n",
       "\n",
       "    .dataframe thead th {\n",
       "        text-align: right;\n",
       "    }\n",
       "</style>\n",
       "<table border=\"1\" class=\"dataframe\">\n",
       "  <thead>\n",
       "    <tr style=\"text-align: right;\">\n",
       "      <th></th>\n",
       "      <th>attr_count</th>\n",
       "      <th>Alien</th>\n",
       "      <th>Ape</th>\n",
       "      <th>Zombie</th>\n",
       "      <th>price</th>\n",
       "    </tr>\n",
       "    <tr>\n",
       "      <th>id</th>\n",
       "      <th></th>\n",
       "      <th></th>\n",
       "      <th></th>\n",
       "      <th></th>\n",
       "      <th></th>\n",
       "    </tr>\n",
       "  </thead>\n",
       "  <tbody>\n",
       "    <tr>\n",
       "      <th>1119</th>\n",
       "      <td>3</td>\n",
       "      <td>0</td>\n",
       "      <td>0</td>\n",
       "      <td>1</td>\n",
       "      <td>300.0</td>\n",
       "    </tr>\n",
       "    <tr>\n",
       "      <th>2484</th>\n",
       "      <td>2</td>\n",
       "      <td>0</td>\n",
       "      <td>0</td>\n",
       "      <td>1</td>\n",
       "      <td>175.0</td>\n",
       "    </tr>\n",
       "    <tr>\n",
       "      <th>2681</th>\n",
       "      <td>2</td>\n",
       "      <td>0</td>\n",
       "      <td>0</td>\n",
       "      <td>1</td>\n",
       "      <td>277.0</td>\n",
       "    </tr>\n",
       "    <tr>\n",
       "      <th>3609</th>\n",
       "      <td>2</td>\n",
       "      <td>0</td>\n",
       "      <td>0</td>\n",
       "      <td>1</td>\n",
       "      <td>369.0</td>\n",
       "    </tr>\n",
       "  </tbody>\n",
       "</table>\n",
       "</div>"
      ],
      "text/plain": [
       "      attr_count  Alien  Ape  Zombie  price\n",
       "id                                         \n",
       "1119           3      0    0       1  300.0\n",
       "2484           2      0    0       1  175.0\n",
       "2681           2      0    0       1  277.0\n",
       "3609           2      0    0       1  369.0"
      ]
     },
     "execution_count": 520,
     "metadata": {},
     "output_type": "execute_result"
    }
   ],
   "source": [
    "b.loc[df['Zombie'] == 1]"
   ]
  },
  {
   "cell_type": "code",
   "execution_count": null,
   "id": "developing-museum",
   "metadata": {},
   "outputs": [],
   "source": []
  }
 ],
 "metadata": {
  "kernelspec": {
   "display_name": "Python 3",
   "language": "python",
   "name": "python3"
  },
  "language_info": {
   "codemirror_mode": {
    "name": "ipython",
    "version": 3
   },
   "file_extension": ".py",
   "mimetype": "text/x-python",
   "name": "python",
   "nbconvert_exporter": "python",
   "pygments_lexer": "ipython3",
   "version": "3.7.10"
  }
 },
 "nbformat": 4,
 "nbformat_minor": 5
}
