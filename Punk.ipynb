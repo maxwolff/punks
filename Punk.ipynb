{
 "cells": [
  {
   "cell_type": "markdown",
   "id": "suspended-bikini",
   "metadata": {},
   "source": [
    "Draft of a crypto punk model\n",
    "* Add your infura key to env under KEY\n",
    "* web3.py only works w python 3.7 for some reason\n",
    "* one hot encoding of attributes(eg: hair color etc) and punk types (ape, alien, etc)\n",
    "* gets the \"punkBought\" from the punks contract for price data\n"
   ]
  },
  {
   "cell_type": "code",
   "execution_count": 1,
   "id": "native-shoulder",
   "metadata": {},
   "outputs": [],
   "source": [
    "import numpy as np\n",
    "import pandas as pd\n",
    "from sklearn.linear_model import LinearRegression\n",
    "import glob\n",
    "import os\n",
    "from web3 import Web3\n",
    "import seaborn as sns"
   ]
  },
  {
   "cell_type": "code",
   "execution_count": 2,
   "id": "narrative-subscriber",
   "metadata": {
    "scrolled": true
   },
   "outputs": [],
   "source": [
    "# get attribute data\n",
    "data_filenames = glob.glob(\"./data/*.csv\")\n",
    "\n",
    "df = pd.DataFrame()\n",
    "for f in data_filenames:\n",
    "    df = df.append(pd.read_csv(f))\n",
    "\n",
    "df = df.set_index('id')\n",
    "df.columns = ['type', 'attr_count', 'attrs']\n",
    "\n",
    "\n",
    "def clean(attr_str):\n",
    "    if (attr_str == ' '): \n",
    "        return ['None']\n",
    "    else:\n",
    "        attrs = attr_str.split(\" / \")\n",
    "        return list(map(lambda x: x.replace(\" \",\"\"), attrs))\n",
    "\n",
    "df['attrs'] = df['attrs'].apply(clean)#https://stackoverflow.com/questions/29034928/pandas-convert-a-column-of-list-to-dummies/29036042\n",
    "attr_dummies = pd.get_dummies(df['attrs'].apply(pd.Series).stack()).sum(level=0)\n",
    "type_dummies = pd.get_dummies(df['type'])\n",
    "type_dummies = type_dummies.rename(str.strip, axis='columns')\n",
    "\n",
    "r = df.join(attr_dummies)\n",
    "del r['attr_count']\n",
    "del r['type']\n",
    "del r['attrs']\n",
    "\n",
    "del df['attrs']\n",
    "del df['type']\n",
    "\n",
    "df = df.join(type_dummies).join(attr_dummies)"
   ]
  },
  {
   "cell_type": "code",
   "execution_count": 3,
   "id": "smaller-depth",
   "metadata": {},
   "outputs": [],
   "source": [
    "freq = r.apply(pd.Series.value_counts)\n",
    "freq = freq.drop([0])#drop row of emtpies\n",
    "freq = freq.squeeze().sort_values()"
   ]
  },
  {
   "cell_type": "code",
   "execution_count": 4,
   "id": "republican-denmark",
   "metadata": {},
   "outputs": [],
   "source": [
    "TOTAL_PUNKS = 10000\n",
    "freq = freq.apply(lambda x: x/TOTAL_PUNKS)"
   ]
  },
  {
   "cell_type": "code",
   "execution_count": 5,
   "id": "personalized-french",
   "metadata": {},
   "outputs": [],
   "source": [
    "def _print(content):\n",
    "    with pd.option_context('display.max_rows', None, 'display.max_columns', None):\n",
    "        print(content)"
   ]
  },
  {
   "cell_type": "code",
   "execution_count": 6,
   "id": "strong-element",
   "metadata": {
    "scrolled": true
   },
   "outputs": [],
   "source": [
    "# input index => \n",
    "s = df \n",
    "s = s.drop(['attr_count', 'Alien','Ape','Female','Male','Zombie'], axis=1)"
   ]
  },
  {
   "cell_type": "code",
   "execution_count": 7,
   "id": "false-holiday",
   "metadata": {
    "scrolled": true
   },
   "outputs": [],
   "source": [
    "def get_rareness(idx):\n",
    "    rarenesss = {}\n",
    "    punk_attrs = r.loc[idx].where(lambda x: x == 1).dropna()\n",
    "    for x in punk_attrs.index.values:\n",
    "        rarenesss[x] = freq.loc[x]\n",
    "    return rarenesss\n",
    "\n",
    "def get_rareness_ranks(input_arr):\n",
    "    arr = list(map(lambda x: (x, get_rareness(x)), input_arr))\n",
    "    arr.sort(key=lambda x: min(list(x[1].values())))\n",
    "    return arr\n",
    "\n",
    "def get_attr_ranks(input_arr):\n",
    "    arr = list(map(lambda x: (x, get_rareness(x)), input_arr))\n",
    "    arr.sort(key=lambda x: len(x[1]), reverse=True)\n",
    "    return arr"
   ]
  },
  {
   "cell_type": "code",
   "execution_count": 10,
   "id": "super-argentina",
   "metadata": {},
   "outputs": [],
   "source": [
    "basic_punk =  [7264, 5087, 8945, 3834, 5886, 8730, 4493, 4902, 7080, 138, 4174, 3776, 5544, 9364, 4391, 3143, 2212, 3346, 3736, 5428, 7681, 9174, 7575, 4091, 4866, 639, 239, 8150, 8444, 8078, 6457, 3530, 926, 2724, 3744, 4252, 9243, 3533, 7741, 8339, 2635, 3846, 3759, 7238, 8885, 2584, 7254, 2599, 7160, 9656, 2309, 5536, 4201, 4960, 3150, 8381, 3235, 6514, 4933, 8208, 7556, 4348, 9564, 5374, 8476, 3920, 4006, 5020, 3357, 8586, 1417, 2348, 2287, 1966, 2652, 441, 7672, 4587, 6276, 6584, 9900, 299, 5999, 9535, 7130, 9384, 8396, 7702, 1011, 7893, 8641, 8144, 6755, 3081, 9075, 2511, 4951, 2036, 6901, 4064]\n",
    "basic_punk2 = [3776, 1704, 2076, 2907, 7254, 9384, 2870, 7130, 702, 3744, 2724, 7681, 1585, 3553, 6354, 7345, 239, 6588, 4933, 4960, 8078, 9243, 3533, 4252, 9900, 5087, 6514, 2088, 709, 1781, 2577, 2661, 6523, 8444, 2825, 7264, 8177, 1791, 743, 8945, 7672, 3497, 8381, 9152, 4175, 8067, 3346, 4951, 5020, 5237, 5366, 9174, 299, 2584, 639, 7741, 4064, 3235, 426, 8706, 8946, 926, 5544, 981, 5536, 5428, 4902, 9656, 3192, 2599, 8144, 3676, 3759, 8396, 7238, 9364, 4587, 4391, 7160, 3143, 3081, 3114, 9902, 4866, 3782, 7893, 6457, 8208, 2309, 8730, 506, 9744, 4201, 5416, 7575, 8091, 5374, 8339, 6755, 5999, 9535, 4493, 1440, 8892, 5077, 4905, 6397, 8389, 6654, 6901, 2790, 6953, 7008, 7080, 2939, 3357, 8476, 3306, 6580, 7668, 9075, 2986, 7702, 820, 2036, 6276, 3150, 2511, 6878, 3421, 4006, 5612]\n",
    "attr_4 = [8830, 9305, 4162, 8671, 3379, 9157, 8172, 2398, 4068, 2728, 7627, 7822, 7505, 4875, 9142, 7032, 9564, 9090, 8302, 9717, 9519, 9887, 3067, 9442]\n",
    "attr_5 = [6295, 2209, 4716, 8101, 3361, 5647, 5101, 3438, 4669]\n",
    "zombie = [6649, 2329, 2424]\n",
    "punk_female = [9228, 9924, 7392, 3179, 4950, 5462, 9647, 4912, 5279, 2905, 5354, 6379, 5672, 1628, 4546, 5535, 6028, 5881, 1350, 2170, 4046, 3082, 8029, 3610, 5467, 6257, 8662, 1392, 2023]"
   ]
  },
  {
   "cell_type": "code",
   "execution_count": 11,
   "id": "statistical-caribbean",
   "metadata": {},
   "outputs": [
    {
     "data": {
      "text/plain": [
       "[(4912, {'BlackLipstick': 0.0617, 'DarkHair': 0.0157, 'Mole': 0.0644}),\n",
       " (4950, {'Bandana': 0.0481, 'BlueEyeShadow': 0.0266, 'Mole': 0.0644}),\n",
       " (5279, {'Bandana': 0.0481, 'BlueEyeShadow': 0.0266}),\n",
       " (5535,\n",
       "  {'BlueEyeShadow': 0.0266, 'HotLipstick': 0.0696, 'StringyHair': 0.0463}),\n",
       " (3179, {'GreenEyeShadow': 0.0271, 'Mohawk': 0.0441}),\n",
       " (6028, {'Earring': 0.2459, 'GreenEyeShadow': 0.0271, 'StringyHair': 0.0463}),\n",
       " (2023, {'GreenEyeShadow': 0.0271, 'MessyHair': 0.046, 'Mole': 0.0644}),\n",
       " (3082,\n",
       "  {'BlackLipstick': 0.0617, 'ClownEyesGreen': 0.0382, 'MohawkDark': 0.0429}),\n",
       " (2905, {'Earring': 0.2459, 'HotLipstick': 0.0696, 'KnittedCap': 0.0419}),\n",
       " (9924, {'HotLipstick': 0.0696, 'MohawkDark': 0.0429, 'Mole': 0.0644}),\n",
       " (5881, {'HotLipstick': 0.0696, 'MohawkDark': 0.0429, 'Mole': 0.0644}),\n",
       " (9228,\n",
       "  {'BlackLipstick': 0.0617, 'HornedRimGlasses': 0.0535, 'Mohawk': 0.0441}),\n",
       " (6379, {'BlackLipstick': 0.0617, 'Earring': 0.2459, 'MohawkThin': 0.0441}),\n",
       " (5672, {'Mohawk': 0.0441, 'Mole': 0.0644, 'PurpleLipstick': 0.0655}),\n",
       " (8029, {'Earring': 0.2459, 'MessyHair': 0.046, 'Mole': 0.0644}),\n",
       " (2170, {'EyePatch': 0.0461, 'HotLipstick': 0.0696, 'StringyHair': 0.0463}),\n",
       " (7392, {'BlackLipstick': 0.0617, 'Earring': 0.2459, 'StringyHair': 0.0463}),\n",
       " (5462, {'Earring': 0.2459, 'HotLipstick': 0.0696, 'StringyHair': 0.0463}),\n",
       " (9647,\n",
       "  {'HornedRimGlasses': 0.0535,\n",
       "   'PurpleLipstick': 0.0655,\n",
       "   'StringyHair': 0.0463}),\n",
       " (5354, {'BlackLipstick': 0.0617, 'Mole': 0.0644, 'StringyHair': 0.0463}),\n",
       " (1628, {'HotLipstick': 0.0696, 'StringyHair': 0.0463}),\n",
       " (4546, {'Earring': 0.2459, 'Mole': 0.0644, 'StringyHair': 0.0463}),\n",
       " (1350, {'BlackLipstick': 0.0617, 'StringyHair': 0.0463}),\n",
       " (4046, {'Mole': 0.0644, 'PurpleLipstick': 0.0655, 'StringyHair': 0.0463}),\n",
       " (3610, {'HotLipstick': 0.0696, 'Mole': 0.0644, 'StringyHair': 0.0463}),\n",
       " (5467, {'Earring': 0.2459, 'HotLipstick': 0.0696, 'StringyHair': 0.0463}),\n",
       " (1392, {'ClassicShades': 0.0502, 'StringyHair': 0.0463}),\n",
       " (6257, {'Bandana': 0.0481, 'BlackLipstick': 0.0617, 'Cigarette': 0.0961}),\n",
       " (8662, {'Bandana': 0.0481, 'Mole': 0.0644})]"
      ]
     },
     "execution_count": 11,
     "metadata": {},
     "output_type": "execute_result"
    }
   ],
   "source": [
    "get_rareness_ranks(punk_female)"
   ]
  },
  {
   "cell_type": "code",
   "execution_count": 402,
   "id": "velvet-question",
   "metadata": {},
   "outputs": [
    {
     "data": {
      "text/plain": [
       "(3776, {'FrontBeardDark': 260, 'FrumpyHair': 442})"
      ]
     },
     "execution_count": 402,
     "metadata": {},
     "output_type": "execute_result"
    }
   ],
   "source": [
    "arr = list(map(lambda x: (x, get_rareness(x)), basic_punk))\n",
    "arr[0]"
   ]
  },
  {
   "cell_type": "code",
   "execution_count": 258,
   "id": "configured-sierra",
   "metadata": {},
   "outputs": [
    {
     "data": {
      "text/plain": [
       "313.03409090909093"
      ]
     },
     "execution_count": 258,
     "metadata": {},
     "output_type": "execute_result"
    }
   ],
   "source": [
    "freq.mean()"
   ]
  },
  {
   "cell_type": "code",
   "execution_count": 260,
   "id": "anticipated-editor",
   "metadata": {},
   "outputs": [
    {
     "data": {
      "text/plain": [
       "961"
      ]
     },
     "execution_count": 260,
     "metadata": {},
     "output_type": "execute_result"
    }
   ],
   "source": [
    "freq.loc['Cigarette']"
   ]
  },
  {
   "cell_type": "code",
   "execution_count": 3,
   "id": "tracked-trial",
   "metadata": {},
   "outputs": [],
   "source": [
    "def hexDaysAgo(w3, days):\n",
    "    blocks_per_day = round(86400 / 14)\n",
    "    target = w3.eth.block_number - days * blocks_per_day\n",
    "    return hex(target)"
   ]
  },
  {
   "cell_type": "code",
   "execution_count": 4,
   "id": "increasing-synthetic",
   "metadata": {},
   "outputs": [],
   "source": [
    "INFURA_KEY = os.environ.get('KEY')\n",
    "# print(INFURA_KEY)"
   ]
  },
  {
   "cell_type": "code",
   "execution_count": 198,
   "id": "speaking-ownership",
   "metadata": {},
   "outputs": [
    {
     "name": "stdout",
     "output_type": "stream",
     "text": [
      "826\n"
     ]
    }
   ],
   "source": [
    "# get events\n",
    "\n",
    "QUERY_DAYS = 15\n",
    "w3 = Web3(Web3.HTTPProvider('https://mainnet.infura.io/v3/a92bf60569df4e02b242dbd8357fffac'))\n",
    "abi_text = \"\"\"[{\"constant\":true,\"inputs\":[],\"name\":\"name\",\"outputs\":[{\"name\":\"\",\"type\":\"string\"}],\"payable\":false,\"type\":\"function\"},{\"constant\":true,\"inputs\":[{\"name\":\"\",\"type\":\"uint256\"}],\"name\":\"punksOfferedForSale\",\"outputs\":[{\"name\":\"isForSale\",\"type\":\"bool\"},{\"name\":\"punkIndex\",\"type\":\"uint256\"},{\"name\":\"seller\",\"type\":\"address\"},{\"name\":\"minValue\",\"type\":\"uint256\"},{\"name\":\"onlySellTo\",\"type\":\"address\"}],\"payable\":false,\"type\":\"function\"},{\"constant\":false,\"inputs\":[{\"name\":\"punkIndex\",\"type\":\"uint256\"}],\"name\":\"enterBidForPunk\",\"outputs\":[],\"payable\":true,\"type\":\"function\"},{\"constant\":true,\"inputs\":[],\"name\":\"totalSupply\",\"outputs\":[{\"name\":\"\",\"type\":\"uint256\"}],\"payable\":false,\"type\":\"function\"},{\"constant\":false,\"inputs\":[{\"name\":\"punkIndex\",\"type\":\"uint256\"},{\"name\":\"minPrice\",\"type\":\"uint256\"}],\"name\":\"acceptBidForPunk\",\"outputs\":[],\"payable\":false,\"type\":\"function\"},{\"constant\":true,\"inputs\":[],\"name\":\"decimals\",\"outputs\":[{\"name\":\"\",\"type\":\"uint8\"}],\"payable\":false,\"type\":\"function\"},{\"constant\":false,\"inputs\":[{\"name\":\"addresses\",\"type\":\"address[]\"},{\"name\":\"indices\",\"type\":\"uint256[]\"}],\"name\":\"setInitialOwners\",\"outputs\":[],\"payable\":false,\"type\":\"function\"},{\"constant\":false,\"inputs\":[],\"name\":\"withdraw\",\"outputs\":[],\"payable\":false,\"type\":\"function\"},{\"constant\":true,\"inputs\":[],\"name\":\"imageHash\",\"outputs\":[{\"name\":\"\",\"type\":\"string\"}],\"payable\":false,\"type\":\"function\"},{\"constant\":true,\"inputs\":[],\"name\":\"nextPunkIndexToAssign\",\"outputs\":[{\"name\":\"\",\"type\":\"uint256\"}],\"payable\":false,\"type\":\"function\"},{\"constant\":true,\"inputs\":[{\"name\":\"\",\"type\":\"uint256\"}],\"name\":\"punkIndexToAddress\",\"outputs\":[{\"name\":\"\",\"type\":\"address\"}],\"payable\":false,\"type\":\"function\"},{\"constant\":true,\"inputs\":[],\"name\":\"standard\",\"outputs\":[{\"name\":\"\",\"type\":\"string\"}],\"payable\":false,\"type\":\"function\"},{\"constant\":true,\"inputs\":[{\"name\":\"\",\"type\":\"uint256\"}],\"name\":\"punkBids\",\"outputs\":[{\"name\":\"hasBid\",\"type\":\"bool\"},{\"name\":\"punkIndex\",\"type\":\"uint256\"},{\"name\":\"bidder\",\"type\":\"address\"},{\"name\":\"value\",\"type\":\"uint256\"}],\"payable\":false,\"type\":\"function\"},{\"constant\":true,\"inputs\":[{\"name\":\"\",\"type\":\"address\"}],\"name\":\"balanceOf\",\"outputs\":[{\"name\":\"\",\"type\":\"uint256\"}],\"payable\":false,\"type\":\"function\"},{\"constant\":false,\"inputs\":[],\"name\":\"allInitialOwnersAssigned\",\"outputs\":[],\"payable\":false,\"type\":\"function\"},{\"constant\":true,\"inputs\":[],\"name\":\"allPunksAssigned\",\"outputs\":[{\"name\":\"\",\"type\":\"bool\"}],\"payable\":false,\"type\":\"function\"},{\"constant\":false,\"inputs\":[{\"name\":\"punkIndex\",\"type\":\"uint256\"}],\"name\":\"buyPunk\",\"outputs\":[],\"payable\":true,\"type\":\"function\"},{\"constant\":false,\"inputs\":[{\"name\":\"to\",\"type\":\"address\"},{\"name\":\"punkIndex\",\"type\":\"uint256\"}],\"name\":\"transferPunk\",\"outputs\":[],\"payable\":false,\"type\":\"function\"},{\"constant\":true,\"inputs\":[],\"name\":\"symbol\",\"outputs\":[{\"name\":\"\",\"type\":\"string\"}],\"payable\":false,\"type\":\"function\"},{\"constant\":false,\"inputs\":[{\"name\":\"punkIndex\",\"type\":\"uint256\"}],\"name\":\"withdrawBidForPunk\",\"outputs\":[],\"payable\":false,\"type\":\"function\"},{\"constant\":false,\"inputs\":[{\"name\":\"to\",\"type\":\"address\"},{\"name\":\"punkIndex\",\"type\":\"uint256\"}],\"name\":\"setInitialOwner\",\"outputs\":[],\"payable\":false,\"type\":\"function\"},{\"constant\":false,\"inputs\":[{\"name\":\"punkIndex\",\"type\":\"uint256\"},{\"name\":\"minSalePriceInWei\",\"type\":\"uint256\"},{\"name\":\"toAddress\",\"type\":\"address\"}],\"name\":\"offerPunkForSaleToAddress\",\"outputs\":[],\"payable\":false,\"type\":\"function\"},{\"constant\":true,\"inputs\":[],\"name\":\"punksRemainingToAssign\",\"outputs\":[{\"name\":\"\",\"type\":\"uint256\"}],\"payable\":false,\"type\":\"function\"},{\"constant\":false,\"inputs\":[{\"name\":\"punkIndex\",\"type\":\"uint256\"},{\"name\":\"minSalePriceInWei\",\"type\":\"uint256\"}],\"name\":\"offerPunkForSale\",\"outputs\":[],\"payable\":false,\"type\":\"function\"},{\"constant\":false,\"inputs\":[{\"name\":\"punkIndex\",\"type\":\"uint256\"}],\"name\":\"getPunk\",\"outputs\":[],\"payable\":false,\"type\":\"function\"},{\"constant\":true,\"inputs\":[{\"name\":\"\",\"type\":\"address\"}],\"name\":\"pendingWithdrawals\",\"outputs\":[{\"name\":\"\",\"type\":\"uint256\"}],\"payable\":false,\"type\":\"function\"},{\"constant\":false,\"inputs\":[{\"name\":\"punkIndex\",\"type\":\"uint256\"}],\"name\":\"punkNoLongerForSale\",\"outputs\":[],\"payable\":false,\"type\":\"function\"},{\"inputs\":[],\"payable\":true,\"type\":\"constructor\"},{\"anonymous\":false,\"inputs\":[{\"indexed\":true,\"name\":\"to\",\"type\":\"address\"},{\"indexed\":false,\"name\":\"punkIndex\",\"type\":\"uint256\"}],\"name\":\"Assign\",\"type\":\"event\"},{\"anonymous\":false,\"inputs\":[{\"indexed\":true,\"name\":\"from\",\"type\":\"address\"},{\"indexed\":true,\"name\":\"to\",\"type\":\"address\"},{\"indexed\":false,\"name\":\"value\",\"type\":\"uint256\"}],\"name\":\"Transfer\",\"type\":\"event\"},{\"anonymous\":false,\"inputs\":[{\"indexed\":true,\"name\":\"from\",\"type\":\"address\"},{\"indexed\":true,\"name\":\"to\",\"type\":\"address\"},{\"indexed\":false,\"name\":\"punkIndex\",\"type\":\"uint256\"}],\"name\":\"PunkTransfer\",\"type\":\"event\"},{\"anonymous\":false,\"inputs\":[{\"indexed\":true,\"name\":\"punkIndex\",\"type\":\"uint256\"},{\"indexed\":false,\"name\":\"minValue\",\"type\":\"uint256\"},{\"indexed\":true,\"name\":\"toAddress\",\"type\":\"address\"}],\"name\":\"PunkOffered\",\"type\":\"event\"},{\"anonymous\":false,\"inputs\":[{\"indexed\":true,\"name\":\"punkIndex\",\"type\":\"uint256\"},{\"indexed\":false,\"name\":\"value\",\"type\":\"uint256\"},{\"indexed\":true,\"name\":\"fromAddress\",\"type\":\"address\"}],\"name\":\"PunkBidEntered\",\"type\":\"event\"},{\"anonymous\":false,\"inputs\":[{\"indexed\":true,\"name\":\"punkIndex\",\"type\":\"uint256\"},{\"indexed\":false,\"name\":\"value\",\"type\":\"uint256\"},{\"indexed\":true,\"name\":\"fromAddress\",\"type\":\"address\"}],\"name\":\"PunkBidWithdrawn\",\"type\":\"event\"},{\"anonymous\":false,\"inputs\":[{\"indexed\":true,\"name\":\"punkIndex\",\"type\":\"uint256\"},{\"indexed\":false,\"name\":\"value\",\"type\":\"uint256\"},{\"indexed\":true,\"name\":\"fromAddress\",\"type\":\"address\"},{\"indexed\":true,\"name\":\"toAddress\",\"type\":\"address\"}],\"name\":\"PunkBought\",\"type\":\"event\"},{\"anonymous\":false,\"inputs\":[{\"indexed\":true,\"name\":\"punkIndex\",\"type\":\"uint256\"}],\"name\":\"PunkNoLongerForSale\",\"type\":\"event\"}]\"\"\"\n",
    "punk_contract = w3.eth.contract(address=\"0xb47e3cd837dDF8e4c57F05d70Ab865de6e193BBB\", abi = abi_text)\n",
    "event_filter = punk_contract.events.PunkBought.createFilter(fromBlock = hexDaysAgo(w3, QUERY_DAYS))\n",
    "punk_events = event_filter.get_all_entries()\n",
    "\n",
    "\n",
    "print(len(punk_events))\n",
    "\n",
    "unset_events = list(filter(lambda x: x.args.value == 0, punk_events))\n",
    "punk_events = list(filter(lambda x: x.args.value != 0, punk_events))"
   ]
  },
  {
   "cell_type": "code",
   "execution_count": 193,
   "id": "detected-syria",
   "metadata": {
    "scrolled": true
   },
   "outputs": [],
   "source": [
    "\n",
    "# for e in unset_events: \n",
    "#     callData = w3.eth.get_transaction(e.transactionHash).input\n",
    "#     punk_contract.decode_function_input"
   ]
  },
  {
   "cell_type": "code",
   "execution_count": 210,
   "id": "european-pierre",
   "metadata": {
    "scrolled": true
   },
   "outputs": [
    {
     "ename": "AttributeError",
     "evalue": "'AttributeDict' object has no attribute 'update'",
     "output_type": "error",
     "traceback": [
      "\u001b[0;31m---------------------------------------------------------------------------\u001b[0m",
      "\u001b[0;31mAttributeError\u001b[0m                            Traceback (most recent call last)",
      "\u001b[0;32m<ipython-input-210-21d56718f91c>\u001b[0m in \u001b[0;36m<module>\u001b[0;34m\u001b[0m\n\u001b[1;32m      2\u001b[0m \u001b[0;31m# scratch_dict = scratch[0].args\u001b[0m\u001b[0;34m\u001b[0m\u001b[0;34m\u001b[0m\u001b[0;34m\u001b[0m\u001b[0m\n\u001b[1;32m      3\u001b[0m \u001b[0;31m# scratch_dict.value = 0\u001b[0m\u001b[0;34m\u001b[0m\u001b[0;34m\u001b[0m\u001b[0;34m\u001b[0m\u001b[0m\n\u001b[0;32m----> 4\u001b[0;31m \u001b[0mscratch\u001b[0m\u001b[0;34m[\u001b[0m\u001b[0;36m1\u001b[0m\u001b[0;34m]\u001b[0m\u001b[0;34m.\u001b[0m\u001b[0margs\u001b[0m\u001b[0;34m.\u001b[0m\u001b[0mupdate\u001b[0m\u001b[0;34m(\u001b[0m\u001b[0;34m{\u001b[0m\u001b[0mvalue\u001b[0m\u001b[0;34m:\u001b[0m\u001b[0;36m4\u001b[0m\u001b[0;34m}\u001b[0m\u001b[0;34m)\u001b[0m\u001b[0;34m\u001b[0m\u001b[0;34m\u001b[0m\u001b[0m\n\u001b[0m",
      "\u001b[0;31mAttributeError\u001b[0m: 'AttributeDict' object has no attribute 'update'"
     ]
    }
   ],
   "source": [
    "scratch = unset_events\n",
    "# scratch_dict = scratch[0].args\n",
    "# scratch_dict.value = 0\n",
    "scratch[1].args.update({value:4})"
   ]
  },
  {
   "cell_type": "code",
   "execution_count": 214,
   "id": "accredited-defense",
   "metadata": {
    "scrolled": false
   },
   "outputs": [
    {
     "data": {
      "text/plain": [
       "['__call__',\n",
       " '__class__',\n",
       " '__delattr__',\n",
       " '__dir__',\n",
       " '__doc__',\n",
       " '__eq__',\n",
       " '__format__',\n",
       " '__ge__',\n",
       " '__getattribute__',\n",
       " '__gt__',\n",
       " '__hash__',\n",
       " '__init__',\n",
       " '__init_subclass__',\n",
       " '__le__',\n",
       " '__lt__',\n",
       " '__module__',\n",
       " '__name__',\n",
       " '__ne__',\n",
       " '__new__',\n",
       " '__qualname__',\n",
       " '__reduce__',\n",
       " '__reduce_ex__',\n",
       " '__repr__',\n",
       " '__self__',\n",
       " '__setattr__',\n",
       " '__sizeof__',\n",
       " '__str__',\n",
       " '__subclasshook__',\n",
       " '__text_signature__']"
      ]
     },
     "execution_count": 214,
     "metadata": {},
     "output_type": "execute_result"
    }
   ],
   "source": [
    "dir(scratch[1].args.__dict__.update(b))"
   ]
  },
  {
   "cell_type": "code",
   "execution_count": 215,
   "id": "swiss-banner",
   "metadata": {},
   "outputs": [
    {
     "data": {
      "text/plain": [
       "AttributeDict({'args': AttributeDict({'punkIndex': 1094,\n",
       "  'fromAddress': '0x82B1F29C5608238DF2618F996827933c0d844079',\n",
       "  'toAddress': '0xaE4D837cAA0C53579f8a156633355Df5058B02f3',\n",
       "  'value': 51000000000000000000}),\n",
       " 'event': 'PunkBought',\n",
       " 'logIndex': 106,\n",
       " 'transactionIndex': 172,\n",
       " 'transactionHash': HexBytes('0x0a5bf43c93ef7615a0450145cc1e647089eb76e006f3f612f716fe80c1058ad5'),\n",
       " 'address': '0xb47e3cd837dDF8e4c57F05d70Ab865de6e193BBB',\n",
       " 'blockHash': HexBytes('0x01c0554c79999f54f8c553a6ba62bfb61e66a1a3df9692e9f7c05ca0deda16c7'),\n",
       " 'blockNumber': 11987581})"
      ]
     },
     "execution_count": 215,
     "metadata": {},
     "output_type": "execute_result"
    }
   ],
   "source": [
    "punk_events[0]"
   ]
  },
  {
   "cell_type": "code",
   "execution_count": 170,
   "id": "impressive-huntington",
   "metadata": {},
   "outputs": [
    {
     "data": {
      "text/plain": [
       "23000000000000000000"
      ]
     },
     "execution_count": 170,
     "metadata": {},
     "output_type": "execute_result"
    }
   ],
   "source": [
    "a = w3.eth.get_transaction('0x07813d642ab9519df246716fbf7702d62c0bbcead89e1285a40b71846418c401').input\n",
    "punk_contract.decode_function_input(a)[1]['minPrice']"
   ]
  },
  {
   "cell_type": "code",
   "execution_count": 161,
   "id": "laden-future",
   "metadata": {},
   "outputs": [
    {
     "data": {
      "text/plain": [
       "17.99"
      ]
     },
     "execution_count": 161,
     "metadata": {},
     "output_type": "execute_result"
    }
   ],
   "source": [
    "Web3.toInt(hexstr=e[0].data) / 1e18"
   ]
  },
  {
   "cell_type": "code",
   "execution_count": 71,
   "id": "accompanied-laugh",
   "metadata": {
    "scrolled": true
   },
   "outputs": [],
   "source": [
    "ids = []\n",
    "values = []\n",
    "for e in punk_events:\n",
    "    if (e.args.value != 0): #not sure why\n",
    "        ids.append(e.args.punkIndex)\n",
    "        values.append(e.args.value / 1e18) # PROBABLY UNSAFE\n",
    "    \n",
    "df_sell = pd.DataFrame(values, index=ids)\n",
    "df_sell.columns = ['price']\n",
    "df_sell.index.name = 'id'\n",
    "\n",
    "b = pd.merge(df, df_sell, how='inner', on='id')"
   ]
  },
  {
   "cell_type": "code",
   "execution_count": 50,
   "id": "moved-latin",
   "metadata": {},
   "outputs": [],
   "source": [
    "# b = b.drop(columns=['Male', 'Female'])\n",
    "b.drop(b[b['Alien'] == 1].index, inplace = True)\n",
    "b.drop(b[b['Ape'] == 1].index, inplace = True)\n",
    "b.drop(b[b['Zombie'] == 1].index, inplace = True)"
   ]
  },
  {
   "cell_type": "code",
   "execution_count": 56,
   "id": "engaged-uncle",
   "metadata": {},
   "outputs": [
    {
     "data": {
      "text/plain": [
       "515"
      ]
     },
     "execution_count": 56,
     "metadata": {},
     "output_type": "execute_result"
    }
   ],
   "source": [
    "len(b)"
   ]
  },
  {
   "cell_type": "code",
   "execution_count": 53,
   "id": "dominant-support",
   "metadata": {},
   "outputs": [],
   "source": [
    "perc_train = .7\n",
    "split_num = round(len(b) * perc_train)\n",
    "\n",
    "x = b.loc[:, b.columns != 'price'].to_numpy()\n",
    "y = b['price'].to_numpy()\n",
    " \n",
    "x_train = x[0:split_num]\n",
    "x_test = x[split_num:]\n",
    "\n",
    "y_train = y[0:split_num]\n",
    "y_test = y[split_num:]\n"
   ]
  },
  {
   "cell_type": "code",
   "execution_count": 54,
   "id": "suburban-arbitration",
   "metadata": {
    "scrolled": true
   },
   "outputs": [
    {
     "name": "stdout",
     "output_type": "stream",
     "text": [
      "Coefficients: \n",
      " [16.02978027  0.          0.          3.348511    0.          0.        ]\n",
      "Mean squared error: 226.94\n",
      "Coefficient of determination: -0.22\n"
     ]
    }
   ],
   "source": [
    "from sklearn.metrics import mean_squared_error, r2_score\n",
    "\n",
    "model = LinearRegression(positive=True)\n",
    "model = model.fit(x_train, y_train)\n",
    "\n",
    "y_pred = model.predict(x_test)\n",
    "\n",
    "with np.nditer(y_pred, op_flags=['readwrite']) as it:\n",
    "    for x in it:\n",
    "       x[...] = 20 if x < 20 else x\n",
    "\n",
    "print('Coefficients: \\n', model.coef_)\n",
    "print('Mean squared error: %.2f'% mean_squared_error(y_test, y_pred))\n",
    "print('Coefficient of determination: %.2f'% r2_score(y_test, y_pred))"
   ]
  },
  {
   "cell_type": "code",
   "execution_count": 55,
   "id": "tribal-candidate",
   "metadata": {},
   "outputs": [
    {
     "data": {
      "text/html": [
       "<div>\n",
       "<style scoped>\n",
       "    .dataframe tbody tr th:only-of-type {\n",
       "        vertical-align: middle;\n",
       "    }\n",
       "\n",
       "    .dataframe tbody tr th {\n",
       "        vertical-align: top;\n",
       "    }\n",
       "\n",
       "    .dataframe thead th {\n",
       "        text-align: right;\n",
       "    }\n",
       "</style>\n",
       "<table border=\"1\" class=\"dataframe\">\n",
       "  <thead>\n",
       "    <tr style=\"text-align: right;\">\n",
       "      <th></th>\n",
       "      <th>attr_count</th>\n",
       "      <th>Alien</th>\n",
       "      <th>Ape</th>\n",
       "      <th>Female</th>\n",
       "      <th>Male</th>\n",
       "      <th>Zombie</th>\n",
       "      <th>price</th>\n",
       "    </tr>\n",
       "    <tr>\n",
       "      <th>id</th>\n",
       "      <th></th>\n",
       "      <th></th>\n",
       "      <th></th>\n",
       "      <th></th>\n",
       "      <th></th>\n",
       "      <th></th>\n",
       "      <th></th>\n",
       "    </tr>\n",
       "  </thead>\n",
       "  <tbody>\n",
       "    <tr>\n",
       "      <th>7005</th>\n",
       "      <td>2</td>\n",
       "      <td>0</td>\n",
       "      <td>0</td>\n",
       "      <td>0</td>\n",
       "      <td>1</td>\n",
       "      <td>0</td>\n",
       "      <td>21.00</td>\n",
       "    </tr>\n",
       "    <tr>\n",
       "      <th>7025</th>\n",
       "      <td>2</td>\n",
       "      <td>0</td>\n",
       "      <td>0</td>\n",
       "      <td>0</td>\n",
       "      <td>1</td>\n",
       "      <td>0</td>\n",
       "      <td>21.00</td>\n",
       "    </tr>\n",
       "    <tr>\n",
       "      <th>7053</th>\n",
       "      <td>2</td>\n",
       "      <td>0</td>\n",
       "      <td>0</td>\n",
       "      <td>0</td>\n",
       "      <td>1</td>\n",
       "      <td>0</td>\n",
       "      <td>23.99</td>\n",
       "    </tr>\n",
       "    <tr>\n",
       "      <th>7053</th>\n",
       "      <td>2</td>\n",
       "      <td>0</td>\n",
       "      <td>0</td>\n",
       "      <td>0</td>\n",
       "      <td>1</td>\n",
       "      <td>0</td>\n",
       "      <td>26.00</td>\n",
       "    </tr>\n",
       "    <tr>\n",
       "      <th>7072</th>\n",
       "      <td>2</td>\n",
       "      <td>0</td>\n",
       "      <td>0</td>\n",
       "      <td>0</td>\n",
       "      <td>1</td>\n",
       "      <td>0</td>\n",
       "      <td>24.00</td>\n",
       "    </tr>\n",
       "    <tr>\n",
       "      <th>...</th>\n",
       "      <td>...</td>\n",
       "      <td>...</td>\n",
       "      <td>...</td>\n",
       "      <td>...</td>\n",
       "      <td>...</td>\n",
       "      <td>...</td>\n",
       "      <td>...</td>\n",
       "    </tr>\n",
       "    <tr>\n",
       "      <th>8924</th>\n",
       "      <td>3</td>\n",
       "      <td>0</td>\n",
       "      <td>0</td>\n",
       "      <td>1</td>\n",
       "      <td>0</td>\n",
       "      <td>0</td>\n",
       "      <td>20.49</td>\n",
       "    </tr>\n",
       "    <tr>\n",
       "      <th>8933</th>\n",
       "      <td>2</td>\n",
       "      <td>0</td>\n",
       "      <td>0</td>\n",
       "      <td>1</td>\n",
       "      <td>0</td>\n",
       "      <td>0</td>\n",
       "      <td>23.49</td>\n",
       "    </tr>\n",
       "    <tr>\n",
       "      <th>8944</th>\n",
       "      <td>3</td>\n",
       "      <td>0</td>\n",
       "      <td>0</td>\n",
       "      <td>1</td>\n",
       "      <td>0</td>\n",
       "      <td>0</td>\n",
       "      <td>23.80</td>\n",
       "    </tr>\n",
       "    <tr>\n",
       "      <th>8972</th>\n",
       "      <td>3</td>\n",
       "      <td>0</td>\n",
       "      <td>0</td>\n",
       "      <td>1</td>\n",
       "      <td>0</td>\n",
       "      <td>0</td>\n",
       "      <td>42.00</td>\n",
       "    </tr>\n",
       "    <tr>\n",
       "      <th>8988</th>\n",
       "      <td>3</td>\n",
       "      <td>0</td>\n",
       "      <td>0</td>\n",
       "      <td>0</td>\n",
       "      <td>1</td>\n",
       "      <td>0</td>\n",
       "      <td>24.99</td>\n",
       "    </tr>\n",
       "  </tbody>\n",
       "</table>\n",
       "<p>515 rows × 7 columns</p>\n",
       "</div>"
      ],
      "text/plain": [
       "      attr_count  Alien  Ape  Female  Male  Zombie  price\n",
       "id                                                       \n",
       "7005           2      0    0       0     1       0  21.00\n",
       "7025           2      0    0       0     1       0  21.00\n",
       "7053           2      0    0       0     1       0  23.99\n",
       "7053           2      0    0       0     1       0  26.00\n",
       "7072           2      0    0       0     1       0  24.00\n",
       "...          ...    ...  ...     ...   ...     ...    ...\n",
       "8924           3      0    0       1     0       0  20.49\n",
       "8933           2      0    0       1     0       0  23.49\n",
       "8944           3      0    0       1     0       0  23.80\n",
       "8972           3      0    0       1     0       0  42.00\n",
       "8988           3      0    0       0     1       0  24.99\n",
       "\n",
       "[515 rows x 7 columns]"
      ]
     },
     "execution_count": 55,
     "metadata": {},
     "output_type": "execute_result"
    }
   ],
   "source": [
    "b"
   ]
  },
  {
   "cell_type": "code",
   "execution_count": 58,
   "id": "protective-trust",
   "metadata": {},
   "outputs": [],
   "source": [
    "tips = sns.load_dataset(\"tips\")"
   ]
  },
  {
   "cell_type": "code",
   "execution_count": 62,
   "id": "short-buffalo",
   "metadata": {
    "scrolled": false
   },
   "outputs": [
    {
     "data": {
      "text/plain": [
       "<AxesSubplot:xlabel='price', ylabel='Count'>"
      ]
     },
     "execution_count": 62,
     "metadata": {},
     "output_type": "execute_result"
    },
    {
     "data": {
      "image/png": "[encoded data removed]",
      "text/plain": [
       "<Figure size 432x288 with 1 Axes>"
      ]
     },
     "metadata": {
      "needs_background": "light"
     },
     "output_type": "display_data"
    }
   ],
   "source": [
    "sns.histplot(data=b, x=\"price\")"
   ]
  },
  {
   "cell_type": "code",
   "execution_count": 122,
   "id": "checked-catering",
   "metadata": {
    "scrolled": false
   },
   "outputs": [
    {
     "data": {
      "text/plain": [
       "<AxesSubplot:ylabel='price'>"
      ]
     },
     "execution_count": 122,
     "metadata": {},
     "output_type": "execute_result"
    },
    {
     "data": {
      "image/png": "[encoded data removed]",
      "text/plain": [
       "<Figure size 432x288 with 1 Axes>"
      ]
     },
     "metadata": {
      "needs_background": "light"
     },
     "output_type": "display_data"
    }
   ],
   "source": [
    "sns.stripplot(data=b[(b.Male == 1) | (b.Female == 1)], y=\"price\")"
   ]
  },
  {
   "cell_type": "code",
   "execution_count": 85,
   "id": "incorporated-survey",
   "metadata": {
    "scrolled": true
   },
   "outputs": [
    {
     "data": {
      "text/plain": [
       "<AxesSubplot:xlabel='type', ylabel='price'>"
      ]
     },
     "execution_count": 85,
     "metadata": {},
     "output_type": "execute_result"
    },
    {
     "data": {
      "image/png": "[encoded data removed]",
      "text/plain": [
       "<Figure size 432x288 with 1 Axes>"
      ]
     },
     "metadata": {
      "needs_background": "light"
     },
     "output_type": "display_data"
    }
   ],
   "source": [
    "sns.stripplot(data=b, x=\"type\", y=\"price\")"
   ]
  },
  {
   "cell_type": "code",
   "execution_count": 431,
   "id": "satellite-bankruptcy",
   "metadata": {},
   "outputs": [
    {
     "data": {
      "text/plain": [
       "<AxesSubplot:>"
      ]
     },
     "execution_count": 431,
     "metadata": {},
     "output_type": "execute_result"
    },
    {
     "data": {
      "image/png": "[encoded data removed]",
      "text/plain": [
       "<Figure size 432x288 with 1 Axes>"
      ]
     },
     "metadata": {
      "needs_background": "light"
     },
     "output_type": "display_data"
    }
   ],
   "source": [
    "sns.stripplot(data=freq)"
   ]
  },
  {
   "cell_type": "code",
   "execution_count": 100,
   "id": "cross-couple",
   "metadata": {},
   "outputs": [
    {
     "data": {
      "text/html": [
       "<div>\n",
       "<style scoped>\n",
       "    .dataframe tbody tr th:only-of-type {\n",
       "        vertical-align: middle;\n",
       "    }\n",
       "\n",
       "    .dataframe tbody tr th {\n",
       "        vertical-align: top;\n",
       "    }\n",
       "\n",
       "    .dataframe thead th {\n",
       "        text-align: right;\n",
       "    }\n",
       "</style>\n",
       "<table border=\"1\" class=\"dataframe\">\n",
       "  <thead>\n",
       "    <tr style=\"text-align: right;\">\n",
       "      <th></th>\n",
       "      <th>type</th>\n",
       "      <th>attr_count</th>\n",
       "      <th>Alien</th>\n",
       "      <th>Ape</th>\n",
       "      <th>Female</th>\n",
       "      <th>Male</th>\n",
       "      <th>Zombie</th>\n",
       "    </tr>\n",
       "    <tr>\n",
       "      <th>id</th>\n",
       "      <th></th>\n",
       "      <th></th>\n",
       "      <th></th>\n",
       "      <th></th>\n",
       "      <th></th>\n",
       "      <th></th>\n",
       "      <th></th>\n",
       "    </tr>\n",
       "  </thead>\n",
       "  <tbody>\n",
       "    <tr>\n",
       "      <th>7000</th>\n",
       "      <td>Male</td>\n",
       "      <td>2</td>\n",
       "      <td>0</td>\n",
       "      <td>0</td>\n",
       "      <td>0</td>\n",
       "      <td>1</td>\n",
       "      <td>0</td>\n",
       "    </tr>\n",
       "    <tr>\n",
       "      <th>7001</th>\n",
       "      <td>Male</td>\n",
       "      <td>4</td>\n",
       "      <td>0</td>\n",
       "      <td>0</td>\n",
       "      <td>0</td>\n",
       "      <td>1</td>\n",
       "      <td>0</td>\n",
       "    </tr>\n",
       "    <tr>\n",
       "      <th>7002</th>\n",
       "      <td>Male</td>\n",
       "      <td>3</td>\n",
       "      <td>0</td>\n",
       "      <td>0</td>\n",
       "      <td>0</td>\n",
       "      <td>1</td>\n",
       "      <td>0</td>\n",
       "    </tr>\n",
       "    <tr>\n",
       "      <th>7003</th>\n",
       "      <td>Male</td>\n",
       "      <td>3</td>\n",
       "      <td>0</td>\n",
       "      <td>0</td>\n",
       "      <td>0</td>\n",
       "      <td>1</td>\n",
       "      <td>0</td>\n",
       "    </tr>\n",
       "    <tr>\n",
       "      <th>7004</th>\n",
       "      <td>Male</td>\n",
       "      <td>2</td>\n",
       "      <td>0</td>\n",
       "      <td>0</td>\n",
       "      <td>0</td>\n",
       "      <td>1</td>\n",
       "      <td>0</td>\n",
       "    </tr>\n",
       "    <tr>\n",
       "      <th>...</th>\n",
       "      <td>...</td>\n",
       "      <td>...</td>\n",
       "      <td>...</td>\n",
       "      <td>...</td>\n",
       "      <td>...</td>\n",
       "      <td>...</td>\n",
       "      <td>...</td>\n",
       "    </tr>\n",
       "    <tr>\n",
       "      <th>8995</th>\n",
       "      <td>Male</td>\n",
       "      <td>3</td>\n",
       "      <td>0</td>\n",
       "      <td>0</td>\n",
       "      <td>0</td>\n",
       "      <td>1</td>\n",
       "      <td>0</td>\n",
       "    </tr>\n",
       "    <tr>\n",
       "      <th>8996</th>\n",
       "      <td>Male</td>\n",
       "      <td>3</td>\n",
       "      <td>0</td>\n",
       "      <td>0</td>\n",
       "      <td>0</td>\n",
       "      <td>1</td>\n",
       "      <td>0</td>\n",
       "    </tr>\n",
       "    <tr>\n",
       "      <th>8997</th>\n",
       "      <td>Female</td>\n",
       "      <td>3</td>\n",
       "      <td>0</td>\n",
       "      <td>0</td>\n",
       "      <td>1</td>\n",
       "      <td>0</td>\n",
       "      <td>0</td>\n",
       "    </tr>\n",
       "    <tr>\n",
       "      <th>8998</th>\n",
       "      <td>Male</td>\n",
       "      <td>3</td>\n",
       "      <td>0</td>\n",
       "      <td>0</td>\n",
       "      <td>0</td>\n",
       "      <td>1</td>\n",
       "      <td>0</td>\n",
       "    </tr>\n",
       "    <tr>\n",
       "      <th>8999</th>\n",
       "      <td>Female</td>\n",
       "      <td>4</td>\n",
       "      <td>0</td>\n",
       "      <td>0</td>\n",
       "      <td>1</td>\n",
       "      <td>0</td>\n",
       "      <td>0</td>\n",
       "    </tr>\n",
       "  </tbody>\n",
       "</table>\n",
       "<p>9879 rows × 7 columns</p>\n",
       "</div>"
      ],
      "text/plain": [
       "         type  attr_count  Alien  Ape  Female  Male  Zombie\n",
       "id                                                         \n",
       "7000     Male           2      0    0       0     1       0\n",
       "7001     Male           4      0    0       0     1       0\n",
       "7002     Male           3      0    0       0     1       0\n",
       "7003     Male           3      0    0       0     1       0\n",
       "7004     Male           2      0    0       0     1       0\n",
       "...       ...         ...    ...  ...     ...   ...     ...\n",
       "8995     Male           3      0    0       0     1       0\n",
       "8996     Male           3      0    0       0     1       0\n",
       "8997   Female           3      0    0       1     0       0\n",
       "8998     Male           3      0    0       0     1       0\n",
       "8999   Female           4      0    0       1     0       0\n",
       "\n",
       "[9879 rows x 7 columns]"
      ]
     },
     "execution_count": 100,
     "metadata": {},
     "output_type": "execute_result"
    }
   ],
   "source": [
    "df[(df.Male == 1) | (df.Female == 1)]"
   ]
  },
  {
   "cell_type": "code",
   "execution_count": 430,
   "id": "sunset-constraint",
   "metadata": {},
   "outputs": [
    {
     "data": {
      "text/plain": [
       "271.5"
      ]
     },
     "execution_count": 430,
     "metadata": {},
     "output_type": "execute_result"
    }
   ],
   "source": [
    "freq.median()"
   ]
  },
  {
   "cell_type": "code",
   "execution_count": null,
   "id": "theoretical-aggregate",
   "metadata": {},
   "outputs": [],
   "source": []
  }
 ],
 "metadata": {
  "kernelspec": {
   "display_name": "Python 3",
   "language": "python",
   "name": "python3"
  },
  "language_info": {
   "codemirror_mode": {
    "name": "ipython",
    "version": 3
   },
   "file_extension": ".py",
   "mimetype": "text/x-python",
   "name": "python",
   "nbconvert_exporter": "python",
   "pygments_lexer": "ipython3",
   "version": "3.7.10"
  }
 },
 "nbformat": 4,
 "nbformat_minor": 5
}
